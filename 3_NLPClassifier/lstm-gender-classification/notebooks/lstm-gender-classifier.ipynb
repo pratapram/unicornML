{
 "cells": [
  {
   "cell_type": "code",
   "execution_count": 1,
   "metadata": {
    "nbpresent": {
     "id": "ebc23d43-698a-4a51-8bf6-791bc3d425c2"
    }
   },
   "outputs": [
    {
     "name": "stderr",
     "output_type": "stream",
     "text": [
      "Using TensorFlow backend.\n"
     ]
    }
   ],
   "source": [
    "import numpy as np\n",
    "import pandas as pd\n",
    "from numpy import genfromtxt\n",
    "import keras\n",
    "from keras.models import Sequential\n",
    "from keras.layers import Dense, Activation, Dropout\n",
    "from keras.layers import LSTM\n",
    "from keras.models import load_model\n",
    "from sklearn.utils import shuffle"
   ]
  },
  {
   "cell_type": "code",
   "execution_count": 2,
   "metadata": {
    "nbpresent": {
     "id": "f72fa157-ccea-4320-8b31-82e7a03a5f1d"
    }
   },
   "outputs": [
    {
     "data": {
      "text/plain": [
       "(1891894, 3)"
      ]
     },
     "execution_count": 2,
     "metadata": {},
     "output_type": "execute_result"
    }
   ],
   "source": [
    "filename = \"https://s3.amazonaws.com/name-gender/allnames.txt\"\n",
    "df=pd.read_csv(filename, sep=',', names = [\"Name\", \"Gender\", \"Count\"])\n",
    "df.shape"
   ]
  },
  {
   "cell_type": "code",
   "execution_count": 3,
   "metadata": {},
   "outputs": [
    {
     "data": {
      "text/html": [
       "<div>\n",
       "<style>\n",
       "    .dataframe thead tr:only-child th {\n",
       "        text-align: right;\n",
       "    }\n",
       "\n",
       "    .dataframe thead th {\n",
       "        text-align: left;\n",
       "    }\n",
       "\n",
       "    .dataframe tbody tr th {\n",
       "        vertical-align: top;\n",
       "    }\n",
       "</style>\n",
       "<table border=\"1\" class=\"dataframe\">\n",
       "  <thead>\n",
       "    <tr style=\"text-align: right;\">\n",
       "      <th></th>\n",
       "      <th>Name</th>\n",
       "      <th>Gender</th>\n",
       "      <th>Count</th>\n",
       "    </tr>\n",
       "  </thead>\n",
       "  <tbody>\n",
       "    <tr>\n",
       "      <th>0</th>\n",
       "      <td>Mary</td>\n",
       "      <td>F</td>\n",
       "      <td>7065</td>\n",
       "    </tr>\n",
       "    <tr>\n",
       "      <th>1</th>\n",
       "      <td>Anna</td>\n",
       "      <td>F</td>\n",
       "      <td>2604</td>\n",
       "    </tr>\n",
       "    <tr>\n",
       "      <th>2</th>\n",
       "      <td>Emma</td>\n",
       "      <td>F</td>\n",
       "      <td>2003</td>\n",
       "    </tr>\n",
       "    <tr>\n",
       "      <th>3</th>\n",
       "      <td>Elizabeth</td>\n",
       "      <td>F</td>\n",
       "      <td>1939</td>\n",
       "    </tr>\n",
       "    <tr>\n",
       "      <th>4</th>\n",
       "      <td>Minnie</td>\n",
       "      <td>F</td>\n",
       "      <td>1746</td>\n",
       "    </tr>\n",
       "  </tbody>\n",
       "</table>\n",
       "</div>"
      ],
      "text/plain": [
       "        Name Gender  Count\n",
       "0       Mary      F   7065\n",
       "1       Anna      F   2604\n",
       "2       Emma      F   2003\n",
       "3  Elizabeth      F   1939\n",
       "4     Minnie      F   1746"
      ]
     },
     "execution_count": 3,
     "metadata": {},
     "output_type": "execute_result"
    }
   ],
   "source": [
    "df.head()"
   ]
  },
  {
   "cell_type": "code",
   "execution_count": 4,
   "metadata": {
    "nbpresent": {
     "id": "0530de6e-3cd3-467a-b344-5bd4dd8d3ba3"
    }
   },
   "outputs": [
    {
     "data": {
      "text/html": [
       "<div>\n",
       "<style>\n",
       "    .dataframe thead tr:only-child th {\n",
       "        text-align: right;\n",
       "    }\n",
       "\n",
       "    .dataframe thead th {\n",
       "        text-align: left;\n",
       "    }\n",
       "\n",
       "    .dataframe tbody tr th {\n",
       "        vertical-align: top;\n",
       "    }\n",
       "</style>\n",
       "<table border=\"1\" class=\"dataframe\">\n",
       "  <thead>\n",
       "    <tr style=\"text-align: right;\">\n",
       "      <th></th>\n",
       "      <th>Name</th>\n",
       "      <th>Gender</th>\n",
       "    </tr>\n",
       "  </thead>\n",
       "  <tbody>\n",
       "    <tr>\n",
       "      <th>0</th>\n",
       "      <td>Mary</td>\n",
       "      <td>F</td>\n",
       "    </tr>\n",
       "    <tr>\n",
       "      <th>1</th>\n",
       "      <td>Anna</td>\n",
       "      <td>F</td>\n",
       "    </tr>\n",
       "    <tr>\n",
       "      <th>2</th>\n",
       "      <td>Emma</td>\n",
       "      <td>F</td>\n",
       "    </tr>\n",
       "    <tr>\n",
       "      <th>3</th>\n",
       "      <td>Elizabeth</td>\n",
       "      <td>F</td>\n",
       "    </tr>\n",
       "    <tr>\n",
       "      <th>4</th>\n",
       "      <td>Minnie</td>\n",
       "      <td>F</td>\n",
       "    </tr>\n",
       "  </tbody>\n",
       "</table>\n",
       "</div>"
      ],
      "text/plain": [
       "        Name Gender\n",
       "0       Mary      F\n",
       "1       Anna      F\n",
       "2       Emma      F\n",
       "3  Elizabeth      F\n",
       "4     Minnie      F"
      ]
     },
     "execution_count": 4,
     "metadata": {},
     "output_type": "execute_result"
    }
   ],
   "source": [
    "df = df.drop(['Count'], axis=1)\n",
    "df.head()"
   ]
  },
  {
   "cell_type": "code",
   "execution_count": 5,
   "metadata": {
    "nbpresent": {
     "id": "5606fac4-782e-48c0-843e-d695e7b27151"
    }
   },
   "outputs": [
    {
     "data": {
      "text/html": [
       "<div>\n",
       "<style>\n",
       "    .dataframe thead tr:only-child th {\n",
       "        text-align: right;\n",
       "    }\n",
       "\n",
       "    .dataframe thead th {\n",
       "        text-align: left;\n",
       "    }\n",
       "\n",
       "    .dataframe tbody tr th {\n",
       "        vertical-align: top;\n",
       "    }\n",
       "</style>\n",
       "<table border=\"1\" class=\"dataframe\">\n",
       "  <thead>\n",
       "    <tr style=\"text-align: right;\">\n",
       "      <th></th>\n",
       "      <th>Name</th>\n",
       "      <th>Gender</th>\n",
       "    </tr>\n",
       "  </thead>\n",
       "  <tbody>\n",
       "    <tr>\n",
       "      <th>891516</th>\n",
       "      <td>Cherline</td>\n",
       "      <td>F</td>\n",
       "    </tr>\n",
       "    <tr>\n",
       "      <th>119622</th>\n",
       "      <td>Rodrick</td>\n",
       "      <td>M</td>\n",
       "    </tr>\n",
       "    <tr>\n",
       "      <th>1468822</th>\n",
       "      <td>Aribella</td>\n",
       "      <td>F</td>\n",
       "    </tr>\n",
       "    <tr>\n",
       "      <th>1853493</th>\n",
       "      <td>Mucad</td>\n",
       "      <td>M</td>\n",
       "    </tr>\n",
       "    <tr>\n",
       "      <th>993054</th>\n",
       "      <td>Jeseca</td>\n",
       "      <td>F</td>\n",
       "    </tr>\n",
       "  </tbody>\n",
       "</table>\n",
       "</div>"
      ],
      "text/plain": [
       "             Name Gender\n",
       "891516   Cherline      F\n",
       "119622    Rodrick      M\n",
       "1468822  Aribella      F\n",
       "1853493     Mucad      M\n",
       "993054     Jeseca      F"
      ]
     },
     "execution_count": 5,
     "metadata": {},
     "output_type": "execute_result"
    }
   ],
   "source": [
    "df = df.drop_duplicates()\n",
    "df = shuffle(df)\n",
    "df.shape\n",
    "df.head()"
   ]
  },
  {
   "cell_type": "code",
   "execution_count": 6,
   "metadata": {
    "nbpresent": {
     "id": "7f8ad84a-6f22-4c8f-8d1d-f4a41192892e"
    }
   },
   "outputs": [
    {
     "name": "stdout",
     "output_type": "stream",
     "text": [
      "106695\n",
      "15\n",
      "2\n"
     ]
    }
   ],
   "source": [
    "#number of names\n",
    "num_names = df.shape[0]\n",
    "print(num_names)\n",
    "# length of longest name\n",
    "max_name_length = (df['Name'].map(len).max())\n",
    "print(max_name_length)\n",
    "# length of shortest name\n",
    "min_name_length = (df['Name'].map(len).min())\n",
    "print(min_name_length)"
   ]
  },
  {
   "cell_type": "code",
   "execution_count": 7,
   "metadata": {},
   "outputs": [
    {
     "name": "stdout",
     "output_type": "stream",
     "text": [
      "891516     Cherline\n",
      "119622      Rodrick\n",
      "1468822    Aribella\n",
      "1853493       Mucad\n",
      "993054       Jeseca\n",
      "Name: Name, dtype: object\n"
     ]
    }
   ],
   "source": [
    "print(df['Name'].head())"
   ]
  },
  {
   "cell_type": "code",
   "execution_count": 8,
   "metadata": {
    "nbpresent": {
     "id": "14cb65ea-da38-4469-908a-a21c49bbba16"
    }
   },
   "outputs": [
    {
     "name": "stdout",
     "output_type": "stream",
     "text": [
      "['Cherline' 'Rodrick' 'Aribella' ..., 'Lacresha' 'Laurenne' 'Mayowa']\n"
     ]
    },
    {
     "data": {
      "text/plain": [
       "891516     F\n",
       "119622     M\n",
       "1468822    F\n",
       "1853493    M\n",
       "993054     F\n",
       "Name: Gender, dtype: object"
      ]
     },
     "execution_count": 8,
     "metadata": {},
     "output_type": "execute_result"
    }
   ],
   "source": [
    "names = df['Name'].values\n",
    "genders = df['Gender']\n",
    "print(names)\n",
    "genders.head()"
   ]
  },
  {
   "cell_type": "code",
   "execution_count": null,
   "metadata": {
    "nbpresent": {
     "id": "efa1c69b-43a7-489e-90d0-c9b4b98e5888"
    }
   },
   "outputs": [],
   "source": [
    "txt = \"\"\n",
    "for n in names:\n",
    "    txt += n.lower()\n",
    "print(len(txt))\n",
    "chars = sorted(set(txt))\n",
    "alphabet_size = len(chars)\n",
    "print('total chars:', len(chars))\n",
    "print(chars)"
   ]
  },
  {
   "cell_type": "code",
   "execution_count": null,
   "metadata": {
    "nbpresent": {
     "id": "a033c310-29c3-4c49-ad65-ae3af7d3e6ac"
    }
   },
   "outputs": [],
   "source": [
    "char_indices = dict((c, i) for i, c in enumerate(chars))\n",
    "print(char_indices)"
   ]
  },
  {
   "cell_type": "code",
   "execution_count": 10,
   "metadata": {},
   "outputs": [
    {
     "name": "stdout",
     "output_type": "stream",
     "text": [
      "{'a': 0, 'c': 2, 'b': 1, 'e': 4, 'd': 3, 'g': 6, 'f': 5, 'i': 8, 'h': 7, 'k': 10, 'j': 9, 'm': 12, 'l': 11, 'o': 14, 'n': 13, 'q': 16, 'p': 15, 's': 18, 'r': 17, 'u': 20, 't': 19, 'w': 22, 'v': 21, 'y': 24, 'x': 23, 'z': 25}\n"
     ]
    }
   ],
   "source": [
    "char_indices = dict((str(unichr(c)), i) for i, c in enumerate(range(97,123)))\n",
    "print(char_indices)\n",
    "alphabet_size = 123-97"
   ]
  },
  {
   "cell_type": "code",
   "execution_count": 22,
   "metadata": {},
   "outputs": [
    {
     "name": "stdout",
     "output_type": "stream",
     "text": [
      "{'max_name_length': 15, 'a': 0, 'c': 2, 'b': 1, 'e': 4, 'd': 3, 'g': 6, 'f': 5, 'i': 8, 'h': 7, 'k': 10, 'j': 9, 'm': 12, 'l': 11, 'o': 14, 'n': 13, 'q': 16, 'p': 15, 's': 18, 'r': 17, 'u': 20, 't': 19, 'w': 22, 'v': 21, 'y': 24, 'x': 23, 'z': 25}\n"
     ]
    }
   ],
   "source": [
    "char_indices['max_name_length'] = max_name_length\n",
    "print(char_indices)\n"
   ]
  },
  {
   "cell_type": "code",
   "execution_count": 11,
   "metadata": {},
   "outputs": [
    {
     "name": "stdout",
     "output_type": "stream",
     "text": [
      "(106695, 15, 26)\n"
     ]
    }
   ],
   "source": [
    "X = np.zeros((num_names, max_name_length, alphabet_size))\n",
    "print(X.shape)"
   ]
  },
  {
   "cell_type": "code",
   "execution_count": 12,
   "metadata": {},
   "outputs": [
    {
     "data": {
      "text/plain": [
       "array([[ 0.,  0.,  1.,  0.,  0.,  0.,  0.,  0.,  0.,  0.,  0.,  0.,  0.,\n",
       "         0.,  0.,  0.,  0.,  0.,  0.,  0.,  0.,  0.,  0.,  0.,  0.,  0.],\n",
       "       [ 0.,  0.,  0.,  0.,  0.,  0.,  0.,  1.,  0.,  0.,  0.,  0.,  0.,\n",
       "         0.,  0.,  0.,  0.,  0.,  0.,  0.,  0.,  0.,  0.,  0.,  0.,  0.],\n",
       "       [ 0.,  0.,  0.,  0.,  1.,  0.,  0.,  0.,  0.,  0.,  0.,  0.,  0.,\n",
       "         0.,  0.,  0.,  0.,  0.,  0.,  0.,  0.,  0.,  0.,  0.,  0.,  0.],\n",
       "       [ 0.,  0.,  0.,  0.,  0.,  0.,  0.,  0.,  0.,  0.,  0.,  0.,  0.,\n",
       "         0.,  0.,  0.,  0.,  1.,  0.,  0.,  0.,  0.,  0.,  0.,  0.,  0.],\n",
       "       [ 0.,  0.,  0.,  0.,  0.,  0.,  0.,  0.,  0.,  0.,  0.,  1.,  0.,\n",
       "         0.,  0.,  0.,  0.,  0.,  0.,  0.,  0.,  0.,  0.,  0.,  0.,  0.],\n",
       "       [ 0.,  0.,  0.,  0.,  0.,  0.,  0.,  0.,  1.,  0.,  0.,  0.,  0.,\n",
       "         0.,  0.,  0.,  0.,  0.,  0.,  0.,  0.,  0.,  0.,  0.,  0.,  0.],\n",
       "       [ 0.,  0.,  0.,  0.,  0.,  0.,  0.,  0.,  0.,  0.,  0.,  0.,  0.,\n",
       "         1.,  0.,  0.,  0.,  0.,  0.,  0.,  0.,  0.,  0.,  0.,  0.,  0.],\n",
       "       [ 0.,  0.,  0.,  0.,  1.,  0.,  0.,  0.,  0.,  0.,  0.,  0.,  0.,\n",
       "         0.,  0.,  0.,  0.,  0.,  0.,  0.,  0.,  0.,  0.,  0.,  0.,  0.],\n",
       "       [ 0.,  0.,  0.,  0.,  0.,  0.,  0.,  0.,  0.,  0.,  0.,  0.,  0.,\n",
       "         0.,  0.,  0.,  0.,  0.,  0.,  0.,  0.,  0.,  0.,  0.,  0.,  0.],\n",
       "       [ 0.,  0.,  0.,  0.,  0.,  0.,  0.,  0.,  0.,  0.,  0.,  0.,  0.,\n",
       "         0.,  0.,  0.,  0.,  0.,  0.,  0.,  0.,  0.,  0.,  0.,  0.,  0.],\n",
       "       [ 0.,  0.,  0.,  0.,  0.,  0.,  0.,  0.,  0.,  0.,  0.,  0.,  0.,\n",
       "         0.,  0.,  0.,  0.,  0.,  0.,  0.,  0.,  0.,  0.,  0.,  0.,  0.],\n",
       "       [ 0.,  0.,  0.,  0.,  0.,  0.,  0.,  0.,  0.,  0.,  0.,  0.,  0.,\n",
       "         0.,  0.,  0.,  0.,  0.,  0.,  0.,  0.,  0.,  0.,  0.,  0.,  0.],\n",
       "       [ 0.,  0.,  0.,  0.,  0.,  0.,  0.,  0.,  0.,  0.,  0.,  0.,  0.,\n",
       "         0.,  0.,  0.,  0.,  0.,  0.,  0.,  0.,  0.,  0.,  0.,  0.,  0.],\n",
       "       [ 0.,  0.,  0.,  0.,  0.,  0.,  0.,  0.,  0.,  0.,  0.,  0.,  0.,\n",
       "         0.,  0.,  0.,  0.,  0.,  0.,  0.,  0.,  0.,  0.,  0.,  0.,  0.],\n",
       "       [ 0.,  0.,  0.,  0.,  0.,  0.,  0.,  0.,  0.,  0.,  0.,  0.,  0.,\n",
       "         0.,  0.,  0.,  0.,  0.,  0.,  0.,  0.,  0.,  0.,  0.,  0.,  0.]])"
      ]
     },
     "execution_count": 12,
     "metadata": {},
     "output_type": "execute_result"
    }
   ],
   "source": [
    "for i,name in enumerate(names):\n",
    "    name = name.lower()\n",
    "    for t, char in enumerate(name):\n",
    "        X[i, t,char_indices[char]] = 1\n",
    "X[0,:,:]"
   ]
  },
  {
   "cell_type": "code",
   "execution_count": 13,
   "metadata": {
    "nbpresent": {
     "id": "2b85f255-be7a-4caa-b4f5-cf0eca3072cc"
    }
   },
   "outputs": [
    {
     "data": {
      "text/plain": [
       "F    66358\n",
       "M    40337\n",
       "Name: Gender, dtype: int64"
      ]
     },
     "execution_count": 13,
     "metadata": {},
     "output_type": "execute_result"
    }
   ],
   "source": [
    "df['Gender'].value_counts()"
   ]
  },
  {
   "cell_type": "code",
   "execution_count": 14,
   "metadata": {
    "nbpresent": {
     "id": "7a7851c4-dd03-42a2-90e7-edfaea3c87cd"
    }
   },
   "outputs": [
    {
     "data": {
      "text/plain": [
       "array([[ 0.,  1.],\n",
       "       [ 1.,  0.],\n",
       "       [ 0.,  1.],\n",
       "       ..., \n",
       "       [ 0.,  1.],\n",
       "       [ 0.,  1.],\n",
       "       [ 1.,  0.]])"
      ]
     },
     "execution_count": 14,
     "metadata": {},
     "output_type": "execute_result"
    }
   ],
   "source": [
    "#Y = np.where(df['Gender'].str.contains(\"F\"), 1, other=-1)\n",
    "Y = np.ones((num_names,2))\n",
    "Y[df['Gender'] == 'F',0] = 0\n",
    "Y[df['Gender'] == 'M',1] = 0\n",
    "Y"
   ]
  },
  {
   "cell_type": "code",
   "execution_count": 15,
   "metadata": {
    "nbpresent": {
     "id": "6ba83249-f57a-458d-bd22-04891354cec5"
    }
   },
   "outputs": [
    {
     "name": "stdout",
     "output_type": "stream",
     "text": [
      "(106695, 15, 26)\n",
      "(106695, 2)\n"
     ]
    }
   ],
   "source": [
    "print (X.shape)\n",
    "print (Y.shape)"
   ]
  },
  {
   "cell_type": "code",
   "execution_count": 16,
   "metadata": {
    "collapsed": true,
    "nbpresent": {
     "id": "1add41ec-20c9-4e24-8b60-87b1034e6f4c"
    }
   },
   "outputs": [],
   "source": [
    "data_dim = alphabet_size\n",
    "timesteps = max_name_length\n",
    "num_classes = 2"
   ]
  },
  {
   "cell_type": "code",
   "execution_count": 17,
   "metadata": {
    "collapsed": true,
    "nbpresent": {
     "id": "34f06cf2-7beb-4fb8-9627-e9e029a17256"
    }
   },
   "outputs": [],
   "source": [
    "model = Sequential()\n",
    "model.add(LSTM(512, return_sequences=True, input_shape=(timesteps, data_dim)))\n",
    "model.add(Dropout(0.2))\n",
    "model.add(LSTM(512, return_sequences=False))\n",
    "model.add(Dropout(0.2))\n",
    "model.add(Dense(num_classes))\n",
    "model.add(Activation('softmax'))"
   ]
  },
  {
   "cell_type": "code",
   "execution_count": 18,
   "metadata": {
    "collapsed": true,
    "nbpresent": {
     "id": "dec409f4-c74e-421b-a304-7049bb4683ab"
    }
   },
   "outputs": [],
   "source": [
    "model.compile(loss='categorical_crossentropy', \n",
    "              optimizer='adam',\n",
    "              metrics=['accuracy'])"
   ]
  },
  {
   "cell_type": "code",
   "execution_count": 19,
   "metadata": {
    "nbpresent": {
     "id": "28301990-bd58-40da-8600-99511131e2b1"
    }
   },
   "outputs": [
    {
     "name": "stdout",
     "output_type": "stream",
     "text": [
      "Train on 85356 samples, validate on 21339 samples\n",
      "Epoch 1/10\n",
      "85356/85356 [==============================] - 100s 1ms/step - loss: 0.4982 - acc: 0.7576 - val_loss: 0.4521 - val_acc: 0.7916\n",
      "Epoch 2/10\n",
      "85356/85356 [==============================] - 98s 1ms/step - loss: 0.4476 - acc: 0.7922 - val_loss: 0.4359 - val_acc: 0.7983\n",
      "Epoch 3/10\n",
      "85356/85356 [==============================] - 99s 1ms/step - loss: 0.4287 - acc: 0.8023 - val_loss: 0.4144 - val_acc: 0.8099\n",
      "Epoch 4/10\n",
      "85356/85356 [==============================] - 99s 1ms/step - loss: 0.4132 - acc: 0.8113 - val_loss: 0.4166 - val_acc: 0.8087\n",
      "Epoch 5/10\n",
      "85356/85356 [==============================] - 98s 1ms/step - loss: 0.4018 - acc: 0.8170 - val_loss: 0.3986 - val_acc: 0.8181\n",
      "Epoch 6/10\n",
      "85356/85356 [==============================] - 98s 1ms/step - loss: 0.3911 - acc: 0.8228 - val_loss: 0.3979 - val_acc: 0.8192\n",
      "Epoch 7/10\n",
      "85356/85356 [==============================] - 98s 1ms/step - loss: 0.3830 - acc: 0.8281 - val_loss: 0.3884 - val_acc: 0.8235\n",
      "Epoch 8/10\n",
      "85356/85356 [==============================] - 99s 1ms/step - loss: 0.3730 - acc: 0.8341 - val_loss: 0.3874 - val_acc: 0.8251\n",
      "Epoch 9/10\n",
      "85356/85356 [==============================] - 99s 1ms/step - loss: 0.3650 - acc: 0.8361 - val_loss: 0.3840 - val_acc: 0.8250\n",
      "Epoch 10/10\n",
      "85356/85356 [==============================] - 99s 1ms/step - loss: 0.3568 - acc: 0.8418 - val_loss: 0.3851 - val_acc: 0.8279\n"
     ]
    },
    {
     "data": {
      "text/plain": [
       "<keras.callbacks.History at 0x7f76b649c1d0>"
      ]
     },
     "execution_count": 19,
     "metadata": {},
     "output_type": "execute_result"
    }
   ],
   "source": [
    "#model.fit(X, Y,\n",
    "#          batch_size=64, epochs=5,\n",
    "#          validation_data=(x_val, y_val))\n",
    "model.fit(X, Y, validation_split=0.20, epochs=10, batch_size=64)"
   ]
  },
  {
   "cell_type": "code",
   "execution_count": 20,
   "metadata": {
    "nbpresent": {
     "id": "23fb2c07-a8ac-4675-95b2-8be5924ad8af"
    }
   },
   "outputs": [
    {
     "name": "stdout",
     "output_type": "stream",
     "text": [
      "shahrukh (M)\n",
      "rob (M)\n",
      "victor (M)\n",
      "amaya (F)\n",
      "vetri (F)\n",
      "swetha (F)\n",
      "binoy (F)\n",
      "moni (F)\n",
      "deep (M)\n",
      "deepa (F)\n",
      "rupu (M)\n",
      "rupa (F)\n",
      "gurpreet (F)\n"
     ]
    }
   ],
   "source": [
    "names_test = ['shahrukh', \"rob\", \"victor\",\"amaya\",\"vetri\", \"swetha\",\"binoy\",\"moni\",\"deep\",\"deepa\",\"rupu\",\"rupa\",\"gurpreet\"]\n",
    "num_test = len(names_test)\n",
    "\n",
    "X_test = np.zeros((num_test, max_name_length, alphabet_size))\n",
    "\n",
    "for i,name in enumerate(names_test):\n",
    "    name = name.lower()\n",
    "    for t, char in enumerate(name):\n",
    "        X_test[i, t,char_indices[char]] = 1\n",
    "\n",
    "predictions = model.predict(X_test)\n",
    "\n",
    "for i,name in enumerate(names_test):\n",
    "    print(\"{} ({})\".format(names_test[i],\"M\" if predictions[i][0]>predictions[i][1] else \"F\"))"
   ]
  },
  {
   "cell_type": "code",
   "execution_count": 21,
   "metadata": {
    "collapsed": true
   },
   "outputs": [],
   "source": [
    "model_type = '_layer-2_dropout-0.2_seq-512_act-softmax_opt-adam_epoch-1'\n",
    "model.save('GenderLSTM{}.h5'.format(model_type))\n",
    "char_indices['max_name_length'] = max_name_length\n",
    "np.save('GenderLSTM{}.npy'.format(model_type), char_indices) "
   ]
  },
  {
   "cell_type": "code",
   "execution_count": 24,
   "metadata": {},
   "outputs": [
    {
     "name": "stdout",
     "output_type": "stream",
     "text": [
      "{'a': 0, 'c': 2, 'b': 1, 'e': 4, 'd': 3, 'g': 6, 'f': 5, 'i': 8, 'h': 7, 'k': 10, 'j': 9, 'm': 12, 'l': 11, 'o': 14, 'n': 13, 'q': 16, 'p': 15, 's': 18, 'r': 17, 'u': 20, 't': 19, 'w': 22, 'v': 21, 'y': 24, 'x': 23, 'z': 25}\n"
     ]
    }
   ],
   "source": [
    "model_type = '_layer-2_dropout-0.2_seq-512_act-softmax_opt-adam_epoch-1'\n",
    "loaded_model = load_model('GenderLSTM{}.h5'.format(model_type))\n",
    "loaded_char_indices = np.load('GenderLSTM{}.npy'.format(model_type)).item()\n",
    "max_name_length = loaded_char_indices['max_name_length']\n",
    "loaded_char_indices.pop('max_name_length', None)\n",
    "alphabet_size = len(loaded_char_indices)\n",
    "print(loaded_char_indices)"
   ]
  },
  {
   "cell_type": "code",
   "execution_count": null,
   "metadata": {},
   "outputs": [],
   "source": [
    "print(max_name_length)\n",
    "print(alphabet_size)"
   ]
  },
  {
   "cell_type": "code",
   "execution_count": null,
   "metadata": {},
   "outputs": [],
   "source": [
    "names_test = ['kanadpriya',\"kanad\",\"treena\",\"dean\",\"osei\",\"rui\",]\n",
    "num_test = len(names_test)\n",
    "\n",
    "X_test = np.zeros((num_test, max_name_length, alphabet_size))\n",
    "\n",
    "for i,name in enumerate(names_test):\n",
    "    name = name.lower()\n",
    "    for t, char in enumerate(name):\n",
    "        X_test[i, t,loaded_char_indices[char]] = 1\n",
    "\n",
    "predictions = loaded_model.predict(X_test)\n",
    "\n",
    "for i,name in enumerate(names_test):\n",
    "    print(\"{} ({})\".format(names_test[i],\"M\" if predictions[i][0]>predictions[i][1] else \"F\"))"
   ]
  },
  {
   "cell_type": "code",
   "execution_count": null,
   "metadata": {},
   "outputs": [],
   "source": [
    "!sudo yum install -y docker"
   ]
  },
  {
   "cell_type": "code",
   "execution_count": null,
   "metadata": {
    "collapsed": true
   },
   "outputs": [],
   "source": [
    "!sudo service docker start"
   ]
  },
  {
   "cell_type": "code",
   "execution_count": null,
   "metadata": {},
   "outputs": [],
   "source": [
    "!sudo docker info"
   ]
  },
  {
   "cell_type": "code",
   "execution_count": null,
   "metadata": {},
   "outputs": [],
   "source": [
    "!git clone https://github.com/dbinoy/Sagemaker_BYOA-LSTM_Keras.git"
   ]
  },
  {
   "cell_type": "code",
   "execution_count": null,
   "metadata": {
    "collapsed": true
   },
   "outputs": [],
   "source": [
    "!sudo rm -rf Sagemaker_BYOA-LSTM_Keras"
   ]
  },
  {
   "cell_type": "code",
   "execution_count": 60,
   "metadata": {},
   "outputs": [
    {
     "name": "stdout",
     "output_type": "stream",
     "text": [
      "Overwriting testfile\n"
     ]
    }
   ],
   "source": [
    "%%writefile testfile\n",
    "\n",
    "a=1\n",
    "b=2\n",
    "c=3"
   ]
  },
  {
   "cell_type": "code",
   "execution_count": 61,
   "metadata": {},
   "outputs": [
    {
     "name": "stdout",
     "output_type": "stream",
     "text": [
      "\r\n",
      "a=1\r\n",
      "b=2\r\n",
      "c=3"
     ]
    }
   ],
   "source": [
    "%cat testfile"
   ]
  },
  {
   "cell_type": "code",
   "execution_count": 54,
   "metadata": {
    "collapsed": true
   },
   "outputs": [],
   "source": [
    "%rm testfile"
   ]
  },
  {
   "cell_type": "code",
   "execution_count": null,
   "metadata": {
    "collapsed": true
   },
   "outputs": [],
   "source": []
  }
 ],
 "metadata": {
  "kernelspec": {
   "display_name": "conda_tensorflow_p27",
   "language": "python",
   "name": "conda_tensorflow_p27"
  },
  "language_info": {
   "codemirror_mode": {
    "name": "ipython",
    "version": 2
   },
   "file_extension": ".py",
   "mimetype": "text/x-python",
   "name": "python",
   "nbconvert_exporter": "python",
   "pygments_lexer": "ipython2",
   "version": "2.7.11"
  }
 },
 "nbformat": 4,
 "nbformat_minor": 2
}
