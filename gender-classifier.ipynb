{
 "cells": [
  {
   "cell_type": "code",
   "execution_count": 160,
   "metadata": {
    "collapsed": true,
    "nbpresent": {
     "id": "ebc23d43-698a-4a51-8bf6-791bc3d425c2"
    }
   },
   "outputs": [],
   "source": [
    "import numpy as np\n",
    "import pandas as pd\n",
    "from numpy import genfromtxt\n",
    "import keras\n",
    "from keras.models import Sequential\n",
    "from keras.layers import Dense, Dropout\n",
    "from keras.layers import Embedding\n",
    "from keras.layers import LSTM"
   ]
  },
  {
   "cell_type": "code",
   "execution_count": 57,
   "metadata": {
    "collapsed": true,
    "nbpresent": {
     "id": "f72fa157-ccea-4320-8b31-82e7a03a5f1d"
    }
   },
   "outputs": [],
   "source": [
    "filename = \"https://s3.amazonaws.com/name-gender/allnames.txt\"\n",
    "df=pd.read_csv(filename, sep=',', names = [\"Name\", \"Gender\", \"Count\"])\n"
   ]
  },
  {
   "cell_type": "code",
   "execution_count": 58,
   "metadata": {
    "nbpresent": {
     "id": "5dc880c0-a532-43dd-bcec-c0fd899bd36a"
    }
   },
   "outputs": [
    {
     "data": {
      "text/plain": [
       "(1891894, 3)"
      ]
     },
     "execution_count": 58,
     "metadata": {},
     "output_type": "execute_result"
    }
   ],
   "source": [
    "df.shape"
   ]
  },
  {
   "cell_type": "code",
   "execution_count": 60,
   "metadata": {
    "nbpresent": {
     "id": "1f9c7b81-6d54-4ecf-9a75-acebfa28e745"
    }
   },
   "outputs": [
    {
     "data": {
      "text/html": [
       "<div>\n",
       "<style>\n",
       "    .dataframe thead tr:only-child th {\n",
       "        text-align: right;\n",
       "    }\n",
       "\n",
       "    .dataframe thead th {\n",
       "        text-align: left;\n",
       "    }\n",
       "\n",
       "    .dataframe tbody tr th {\n",
       "        vertical-align: top;\n",
       "    }\n",
       "</style>\n",
       "<table border=\"1\" class=\"dataframe\">\n",
       "  <thead>\n",
       "    <tr style=\"text-align: right;\">\n",
       "      <th></th>\n",
       "      <th>Name</th>\n",
       "      <th>Gender</th>\n",
       "      <th>Count</th>\n",
       "    </tr>\n",
       "  </thead>\n",
       "  <tbody>\n",
       "    <tr>\n",
       "      <th>0</th>\n",
       "      <td>Mary</td>\n",
       "      <td>F</td>\n",
       "      <td>7065</td>\n",
       "    </tr>\n",
       "    <tr>\n",
       "      <th>1</th>\n",
       "      <td>Anna</td>\n",
       "      <td>F</td>\n",
       "      <td>2604</td>\n",
       "    </tr>\n",
       "    <tr>\n",
       "      <th>2</th>\n",
       "      <td>Emma</td>\n",
       "      <td>F</td>\n",
       "      <td>2003</td>\n",
       "    </tr>\n",
       "    <tr>\n",
       "      <th>3</th>\n",
       "      <td>Elizabeth</td>\n",
       "      <td>F</td>\n",
       "      <td>1939</td>\n",
       "    </tr>\n",
       "    <tr>\n",
       "      <th>4</th>\n",
       "      <td>Minnie</td>\n",
       "      <td>F</td>\n",
       "      <td>1746</td>\n",
       "    </tr>\n",
       "    <tr>\n",
       "      <th>5</th>\n",
       "      <td>Margaret</td>\n",
       "      <td>F</td>\n",
       "      <td>1578</td>\n",
       "    </tr>\n",
       "    <tr>\n",
       "      <th>6</th>\n",
       "      <td>Ida</td>\n",
       "      <td>F</td>\n",
       "      <td>1472</td>\n",
       "    </tr>\n",
       "    <tr>\n",
       "      <th>7</th>\n",
       "      <td>Alice</td>\n",
       "      <td>F</td>\n",
       "      <td>1414</td>\n",
       "    </tr>\n",
       "    <tr>\n",
       "      <th>8</th>\n",
       "      <td>Bertha</td>\n",
       "      <td>F</td>\n",
       "      <td>1320</td>\n",
       "    </tr>\n",
       "    <tr>\n",
       "      <th>9</th>\n",
       "      <td>Sarah</td>\n",
       "      <td>F</td>\n",
       "      <td>1288</td>\n",
       "    </tr>\n",
       "  </tbody>\n",
       "</table>\n",
       "</div>"
      ],
      "text/plain": [
       "        Name Gender  Count\n",
       "0       Mary      F   7065\n",
       "1       Anna      F   2604\n",
       "2       Emma      F   2003\n",
       "3  Elizabeth      F   1939\n",
       "4     Minnie      F   1746\n",
       "5   Margaret      F   1578\n",
       "6        Ida      F   1472\n",
       "7      Alice      F   1414\n",
       "8     Bertha      F   1320\n",
       "9      Sarah      F   1288"
      ]
     },
     "execution_count": 60,
     "metadata": {},
     "output_type": "execute_result"
    }
   ],
   "source": [
    "df.head(10)"
   ]
  },
  {
   "cell_type": "code",
   "execution_count": 63,
   "metadata": {
    "collapsed": true,
    "nbpresent": {
     "id": "0530de6e-3cd3-467a-b344-5bd4dd8d3ba3"
    }
   },
   "outputs": [],
   "source": [
    "df = df.drop(['Count'], axis=1)"
   ]
  },
  {
   "cell_type": "code",
   "execution_count": 64,
   "metadata": {
    "nbpresent": {
     "id": "5b2c146d-78fc-49b5-b267-e186c0fc71ab"
    }
   },
   "outputs": [
    {
     "data": {
      "text/html": [
       "<div>\n",
       "<style>\n",
       "    .dataframe thead tr:only-child th {\n",
       "        text-align: right;\n",
       "    }\n",
       "\n",
       "    .dataframe thead th {\n",
       "        text-align: left;\n",
       "    }\n",
       "\n",
       "    .dataframe tbody tr th {\n",
       "        vertical-align: top;\n",
       "    }\n",
       "</style>\n",
       "<table border=\"1\" class=\"dataframe\">\n",
       "  <thead>\n",
       "    <tr style=\"text-align: right;\">\n",
       "      <th></th>\n",
       "      <th>Name</th>\n",
       "      <th>Gender</th>\n",
       "    </tr>\n",
       "  </thead>\n",
       "  <tbody>\n",
       "    <tr>\n",
       "      <th>0</th>\n",
       "      <td>Mary</td>\n",
       "      <td>F</td>\n",
       "    </tr>\n",
       "    <tr>\n",
       "      <th>1</th>\n",
       "      <td>Anna</td>\n",
       "      <td>F</td>\n",
       "    </tr>\n",
       "    <tr>\n",
       "      <th>2</th>\n",
       "      <td>Emma</td>\n",
       "      <td>F</td>\n",
       "    </tr>\n",
       "    <tr>\n",
       "      <th>3</th>\n",
       "      <td>Elizabeth</td>\n",
       "      <td>F</td>\n",
       "    </tr>\n",
       "    <tr>\n",
       "      <th>4</th>\n",
       "      <td>Minnie</td>\n",
       "      <td>F</td>\n",
       "    </tr>\n",
       "  </tbody>\n",
       "</table>\n",
       "</div>"
      ],
      "text/plain": [
       "        Name Gender\n",
       "0       Mary      F\n",
       "1       Anna      F\n",
       "2       Emma      F\n",
       "3  Elizabeth      F\n",
       "4     Minnie      F"
      ]
     },
     "execution_count": 64,
     "metadata": {},
     "output_type": "execute_result"
    }
   ],
   "source": [
    "df.head()"
   ]
  },
  {
   "cell_type": "code",
   "execution_count": 65,
   "metadata": {
    "collapsed": true,
    "nbpresent": {
     "id": "5606fac4-782e-48c0-843e-d695e7b27151"
    }
   },
   "outputs": [],
   "source": [
    "df = df.drop_duplicates()"
   ]
  },
  {
   "cell_type": "code",
   "execution_count": 66,
   "metadata": {
    "nbpresent": {
     "id": "dbb0376a-8c68-4ff9-b844-5c13b15c2281"
    }
   },
   "outputs": [
    {
     "data": {
      "text/plain": [
       "(106695, 2)"
      ]
     },
     "execution_count": 66,
     "metadata": {},
     "output_type": "execute_result"
    }
   ],
   "source": [
    "df.shape"
   ]
  },
  {
   "cell_type": "code",
   "execution_count": 145,
   "metadata": {
    "nbpresent": {
     "id": "7f8ad84a-6f22-4c8f-8d1d-f4a41192892e"
    }
   },
   "outputs": [
    {
     "name": "stdout",
     "output_type": "stream",
     "text": [
      "106695\n",
      "15\n"
     ]
    }
   ],
   "source": [
    "#number of names\n",
    "num_names = df.shape[0]\n",
    "print(num_names)\n",
    "# length of longest name\n",
    "max_name_length = (df['Name'].map(len).max())\n",
    "print(max_name_length)"
   ]
  },
  {
   "cell_type": "code",
   "execution_count": 75,
   "metadata": {
    "nbpresent": {
     "id": "6b0b3a84-60d3-4f9b-b3b4-d63aeef0fc1f"
    }
   },
   "outputs": [
    {
     "name": "stdout",
     "output_type": "stream",
     "text": [
      "2\n"
     ]
    }
   ],
   "source": [
    "print(df['Name'].map(len).min())"
   ]
  },
  {
   "cell_type": "code",
   "execution_count": 133,
   "metadata": {
    "collapsed": true,
    "nbpresent": {
     "id": "14cb65ea-da38-4469-908a-a21c49bbba16"
    }
   },
   "outputs": [],
   "source": [
    "names = df['Name'].values\n",
    "genders = df['Gender']"
   ]
  },
  {
   "cell_type": "code",
   "execution_count": 316,
   "metadata": {
    "nbpresent": {
     "id": "efa1c69b-43a7-489e-90d0-c9b4b98e5888"
    }
   },
   "outputs": [
    {
     "name": "stdout",
     "output_type": "stream",
     "text": [
      "total chars: 26\n"
     ]
    }
   ],
   "source": [
    "txt = \"\"\n",
    "for n in names:\n",
    "    txt += n.lower()\n",
    "chars = set(txt)\n",
    "alphabet_size = len(chars)\n",
    "print('total chars:', len(chars))"
   ]
  },
  {
   "cell_type": "code",
   "execution_count": 317,
   "metadata": {
    "nbpresent": {
     "id": "a033c310-29c3-4c49-ad65-ae3af7d3e6ac"
    }
   },
   "outputs": [
    {
     "name": "stdout",
     "output_type": "stream",
     "text": [
      "{'b': 0, 'n': 1, 'y': 2, 'z': 3, 'v': 4, 'd': 5, 'a': 6, 'j': 7, 'h': 8, 't': 9, 'o': 10, 'w': 11, 'f': 12, 'k': 13, 'u': 14, 's': 15, 'c': 16, 'i': 17, 'r': 18, 'e': 19, 'm': 20, 'l': 21, 'g': 22, 'p': 23, 'x': 24, 'q': 25}\n"
     ]
    }
   ],
   "source": [
    "char_indices = dict((c, i) for i, c in enumerate(chars))\n",
    "indices_char = dict((i, c) for i, c in enumerate(chars))\n",
    "print (char_indices)\n"
   ]
  },
  {
   "cell_type": "code",
   "execution_count": 329,
   "metadata": {
    "collapsed": true
   },
   "outputs": [],
   "source": [
    "integer_encoded = [char_indices[char] for char in name]\n",
    "X = np.zeros((num_names, max_name_length, alphabet_size))\n",
    "\n",
    "for i,name in enumerate(names):\n",
    "    name = name.lower()\n",
    "    for t, char in enumerate(name):\n",
    "        X[i, t,char_indices[char]] = 1\n",
    "#for value in integer_encoded:\n",
    "#    letter = [0 for _ in range(alphabet_size)]\n",
    "#    letter[value] = 1\n",
    "#    onehot_encoded.append(letter)"
   ]
  },
  {
   "cell_type": "code",
   "execution_count": 330,
   "metadata": {},
   "outputs": [
    {
     "data": {
      "text/plain": [
       "array([[ 0.,  0.,  0.,  0.,  0.,  0.,  0.,  0.,  0.,  0.,  0.,  0.,  0.,\n",
       "         0.,  0.,  0.,  0.,  0.,  0.,  0.,  1.,  0.,  0.,  0.,  0.,  0.],\n",
       "       [ 0.,  0.,  0.,  0.,  0.,  0.,  1.,  0.,  0.,  0.,  0.,  0.,  0.,\n",
       "         0.,  0.,  0.,  0.,  0.,  0.,  0.,  0.,  0.,  0.,  0.,  0.,  0.],\n",
       "       [ 0.,  0.,  0.,  0.,  0.,  0.,  0.,  0.,  0.,  0.,  0.,  0.,  0.,\n",
       "         0.,  0.,  0.,  0.,  0.,  1.,  0.,  0.,  0.,  0.,  0.,  0.,  0.],\n",
       "       [ 0.,  0.,  1.,  0.,  0.,  0.,  0.,  0.,  0.,  0.,  0.,  0.,  0.,\n",
       "         0.,  0.,  0.,  0.,  0.,  0.,  0.,  0.,  0.,  0.,  0.,  0.,  0.],\n",
       "       [ 0.,  0.,  0.,  0.,  0.,  0.,  0.,  0.,  0.,  0.,  0.,  0.,  0.,\n",
       "         0.,  0.,  0.,  0.,  0.,  0.,  0.,  0.,  0.,  0.,  0.,  0.,  0.],\n",
       "       [ 0.,  0.,  0.,  0.,  0.,  0.,  0.,  0.,  0.,  0.,  0.,  0.,  0.,\n",
       "         0.,  0.,  0.,  0.,  0.,  0.,  0.,  0.,  0.,  0.,  0.,  0.,  0.],\n",
       "       [ 0.,  0.,  0.,  0.,  0.,  0.,  0.,  0.,  0.,  0.,  0.,  0.,  0.,\n",
       "         0.,  0.,  0.,  0.,  0.,  0.,  0.,  0.,  0.,  0.,  0.,  0.,  0.],\n",
       "       [ 0.,  0.,  0.,  0.,  0.,  0.,  0.,  0.,  0.,  0.,  0.,  0.,  0.,\n",
       "         0.,  0.,  0.,  0.,  0.,  0.,  0.,  0.,  0.,  0.,  0.,  0.,  0.],\n",
       "       [ 0.,  0.,  0.,  0.,  0.,  0.,  0.,  0.,  0.,  0.,  0.,  0.,  0.,\n",
       "         0.,  0.,  0.,  0.,  0.,  0.,  0.,  0.,  0.,  0.,  0.,  0.,  0.],\n",
       "       [ 0.,  0.,  0.,  0.,  0.,  0.,  0.,  0.,  0.,  0.,  0.,  0.,  0.,\n",
       "         0.,  0.,  0.,  0.,  0.,  0.,  0.,  0.,  0.,  0.,  0.,  0.,  0.],\n",
       "       [ 0.,  0.,  0.,  0.,  0.,  0.,  0.,  0.,  0.,  0.,  0.,  0.,  0.,\n",
       "         0.,  0.,  0.,  0.,  0.,  0.,  0.,  0.,  0.,  0.,  0.,  0.,  0.],\n",
       "       [ 0.,  0.,  0.,  0.,  0.,  0.,  0.,  0.,  0.,  0.,  0.,  0.,  0.,\n",
       "         0.,  0.,  0.,  0.,  0.,  0.,  0.,  0.,  0.,  0.,  0.,  0.,  0.],\n",
       "       [ 0.,  0.,  0.,  0.,  0.,  0.,  0.,  0.,  0.,  0.,  0.,  0.,  0.,\n",
       "         0.,  0.,  0.,  0.,  0.,  0.,  0.,  0.,  0.,  0.,  0.,  0.,  0.],\n",
       "       [ 0.,  0.,  0.,  0.,  0.,  0.,  0.,  0.,  0.,  0.,  0.,  0.,  0.,\n",
       "         0.,  0.,  0.,  0.,  0.,  0.,  0.,  0.,  0.,  0.,  0.,  0.,  0.],\n",
       "       [ 0.,  0.,  0.,  0.,  0.,  0.,  0.,  0.,  0.,  0.,  0.,  0.,  0.,\n",
       "         0.,  0.,  0.,  0.,  0.,  0.,  0.,  0.,  0.,  0.,  0.,  0.,  0.]])"
      ]
     },
     "execution_count": 330,
     "metadata": {},
     "output_type": "execute_result"
    }
   ],
   "source": [
    "X[0,:,:]"
   ]
  },
  {
   "cell_type": "code",
   "execution_count": 203,
   "metadata": {
    "collapsed": true,
    "nbpresent": {
     "id": "d93c5bdf-9c1f-440b-910d-f72cc57cee40"
    }
   },
   "outputs": [],
   "source": [
    "#X = np.ones((num_names, max_name_length,1), dtype=np.int64) * -1\n",
    "#y = np.array(gender)\n",
    "\n",
    "#for i,name in enumerate(names):\n",
    "#    name = name.lower()\n",
    "#    for t, char in enumerate(name[-max_name_length:]):\n",
    "#        X[i, (max_name_length-1-t)] = char_indices[char]\n",
    "#    print (X[i,:])\n",
    "\n",
    "#for i,name in enumerate(names):\n",
    "#    name = name.lower()\n",
    "#    for t, char in enumerate(name):\n",
    "#        X[i, t,0] = char_indices[char]\n",
    "#    #print (X[i,:])\n"
   ]
  },
  {
   "cell_type": "code",
   "execution_count": 204,
   "metadata": {
    "nbpresent": {
     "id": "2b85f255-be7a-4caa-b4f5-cf0eca3072cc"
    }
   },
   "outputs": [
    {
     "data": {
      "text/plain": [
       "F    66358\n",
       "M    40337\n",
       "Name: Gender, dtype: int64"
      ]
     },
     "execution_count": 204,
     "metadata": {},
     "output_type": "execute_result"
    }
   ],
   "source": [
    "df['Gender'].value_counts()"
   ]
  },
  {
   "cell_type": "code",
   "execution_count": 213,
   "metadata": {
    "nbpresent": {
     "id": "7a7851c4-dd03-42a2-90e7-edfaea3c87cd"
    }
   },
   "outputs": [
    {
     "data": {
      "text/plain": [
       "array([[ 0.],\n",
       "       [ 0.],\n",
       "       [ 0.],\n",
       "       ..., \n",
       "       [ 1.],\n",
       "       [ 1.],\n",
       "       [ 1.]])"
      ]
     },
     "execution_count": 213,
     "metadata": {},
     "output_type": "execute_result"
    }
   ],
   "source": [
    "#Y = np.where(df['Gender'].str.contains(\"F\"), 1, other=-1)\n",
    "Y = np.ones((num_names,1))\n",
    "Y[df['Gender'] == 'F',0] = 0\n",
    "Y"
   ]
  },
  {
   "cell_type": "code",
   "execution_count": 331,
   "metadata": {
    "nbpresent": {
     "id": "6ba83249-f57a-458d-bd22-04891354cec5"
    }
   },
   "outputs": [
    {
     "name": "stdout",
     "output_type": "stream",
     "text": [
      "(106695, 15, 26)\n",
      "(106695, 1)\n"
     ]
    }
   ],
   "source": [
    "print (X.shape)\n",
    "print (Y.shape)"
   ]
  },
  {
   "cell_type": "code",
   "execution_count": 333,
   "metadata": {
    "collapsed": true,
    "nbpresent": {
     "id": "1add41ec-20c9-4e24-8b60-87b1034e6f4c"
    }
   },
   "outputs": [],
   "source": [
    "data_dim = alphabet_size\n",
    "timesteps = max_name_length\n",
    "num_classes = 1"
   ]
  },
  {
   "cell_type": "code",
   "execution_count": 483,
   "metadata": {
    "collapsed": true,
    "nbpresent": {
     "id": "34f06cf2-7beb-4fb8-9627-e9e029a17256"
    }
   },
   "outputs": [],
   "source": [
    "model = Sequential()\n",
    "model.add(LSTM(32, return_sequences=True,\n",
    "               input_shape=(timesteps, data_dim)))  # returns a sequence of vectors of dimension 32\n",
    "#model.add(LSTM(32, return_sequences=True))  # returns a sequence of vectors of dimension 32\n",
    "model.add(LSTM(32))  # return a single vector of dimension 32\n",
    "model.add(Dense(1, activation='sigmoid'))"
   ]
  },
  {
   "cell_type": "code",
   "execution_count": 484,
   "metadata": {
    "collapsed": true,
    "nbpresent": {
     "id": "dec409f4-c74e-421b-a304-7049bb4683ab"
    }
   },
   "outputs": [],
   "source": [
    "model.compile(loss='binary_crossentropy',\n",
    "              optimizer='rmsprop',\n",
    "              metrics=['accuracy'])"
   ]
  },
  {
   "cell_type": "code",
   "execution_count": 486,
   "metadata": {
    "nbpresent": {
     "id": "28301990-bd58-40da-8600-99511131e2b1"
    }
   },
   "outputs": [
    {
     "name": "stdout",
     "output_type": "stream",
     "text": [
      "Train on 85356 samples, validate on 21339 samples\n",
      "Epoch 1/20\n",
      "85356/85356 [==============================] - 29s 336us/step - loss: 0.3791 - acc: 0.8274 - val_loss: 0.4394 - val_acc: 0.8021\n",
      "Epoch 2/20\n",
      "85356/85356 [==============================] - 29s 335us/step - loss: 0.3773 - acc: 0.8291 - val_loss: 0.4174 - val_acc: 0.8144\n",
      "Epoch 3/20\n",
      "85356/85356 [==============================] - 28s 327us/step - loss: 0.3756 - acc: 0.8291 - val_loss: 0.4309 - val_acc: 0.8035\n",
      "Epoch 4/20\n",
      "85356/85356 [==============================] - 28s 328us/step - loss: 0.3738 - acc: 0.8301 - val_loss: 0.4306 - val_acc: 0.8070\n",
      "Epoch 5/20\n",
      "85356/85356 [==============================] - 28s 330us/step - loss: 0.3718 - acc: 0.8321 - val_loss: 0.4282 - val_acc: 0.8078\n",
      "Epoch 6/20\n",
      "85356/85356 [==============================] - 29s 334us/step - loss: 0.3702 - acc: 0.8322 - val_loss: 0.4225 - val_acc: 0.8063\n",
      "Epoch 7/20\n",
      "85356/85356 [==============================] - 28s 327us/step - loss: 0.3686 - acc: 0.8339 - val_loss: 0.4378 - val_acc: 0.8022\n",
      "Epoch 8/20\n",
      "85356/85356 [==============================] - 28s 328us/step - loss: 0.3672 - acc: 0.8337 - val_loss: 0.4400 - val_acc: 0.7999\n",
      "Epoch 9/20\n",
      "85356/85356 [==============================] - 29s 335us/step - loss: 0.3654 - acc: 0.8359 - val_loss: 0.4139 - val_acc: 0.8163\n",
      "Epoch 10/20\n",
      "85356/85356 [==============================] - 29s 337us/step - loss: 0.3645 - acc: 0.8357 - val_loss: 0.4443 - val_acc: 0.7983\n",
      "Epoch 11/20\n",
      "85356/85356 [==============================] - 28s 327us/step - loss: 0.3626 - acc: 0.8363 - val_loss: 0.4197 - val_acc: 0.8113\n",
      "Epoch 12/20\n",
      "85356/85356 [==============================] - 28s 329us/step - loss: 0.3609 - acc: 0.8370 - val_loss: 0.4300 - val_acc: 0.8118\n",
      "Epoch 13/20\n",
      "85356/85356 [==============================] - 28s 329us/step - loss: 0.3599 - acc: 0.8374 - val_loss: 0.4296 - val_acc: 0.8071\n",
      "Epoch 14/20\n",
      "85356/85356 [==============================] - 29s 334us/step - loss: 0.3589 - acc: 0.8378 - val_loss: 0.4334 - val_acc: 0.8072\n",
      "Epoch 15/20\n",
      "85356/85356 [==============================] - 29s 335us/step - loss: 0.3580 - acc: 0.8387 - val_loss: 0.4420 - val_acc: 0.8026\n",
      "Epoch 16/20\n",
      "85356/85356 [==============================] - 28s 328us/step - loss: 0.3562 - acc: 0.8392 - val_loss: 0.4446 - val_acc: 0.8033\n",
      "Epoch 17/20\n",
      "85356/85356 [==============================] - 28s 326us/step - loss: 0.3548 - acc: 0.8399 - val_loss: 0.4271 - val_acc: 0.8109\n",
      "Epoch 18/20\n",
      "85356/85356 [==============================] - 28s 329us/step - loss: 0.3538 - acc: 0.8404 - val_loss: 0.4314 - val_acc: 0.8082\n",
      "Epoch 19/20\n",
      "85356/85356 [==============================] - 28s 332us/step - loss: 0.3523 - acc: 0.8402 - val_loss: 0.4357 - val_acc: 0.8074\n",
      "Epoch 20/20\n",
      "85356/85356 [==============================] - 28s 328us/step - loss: 0.3513 - acc: 0.8414 - val_loss: 0.4321 - val_acc: 0.8130\n"
     ]
    },
    {
     "data": {
      "text/plain": [
       "<keras.callbacks.History at 0x7f959aee65c0>"
      ]
     },
     "execution_count": 486,
     "metadata": {},
     "output_type": "execute_result"
    }
   ],
   "source": [
    "#model.fit(X, Y,\n",
    "#          batch_size=64, epochs=5,\n",
    "#          validation_data=(x_val, y_val))\n",
    "model.fit(X, Y, validation_split=0.20, epochs=20, batch_size=64)"
   ]
  },
  {
   "cell_type": "code",
   "execution_count": 481,
   "metadata": {
    "nbpresent": {
     "id": "23fb2c07-a8ac-4675-95b2-8be5924ad8af"
    }
   },
   "outputs": [
    {
     "data": {
      "text/plain": [
       "array([[ 0.90565544],\n",
       "       [ 0.78381199],\n",
       "       [ 0.83999473],\n",
       "       [ 0.03508203],\n",
       "       [ 0.29466197],\n",
       "       [ 0.05799102]], dtype=float32)"
      ]
     },
     "execution_count": 481,
     "metadata": {},
     "output_type": "execute_result"
    }
   ],
   "source": [
    "num_test = 6\n",
    "names_test = ['shahrukh', \"rob\", \"victor\",\"amaya\",\"vetri\", \"swetha\"]\n",
    "X_test = np.zeros((num_test, max_name_length, alphabet_size))\n",
    "\n",
    "for i,name in enumerate(names_test):\n",
    "    name = name.lower()\n",
    "    for t, char in enumerate(name):\n",
    "        X_test[i, t,char_indices[char]] = 1\n",
    "\n",
    "#X_test = np.ones((num_test, max_name_length,1), dtype=np.int64) * -1\n",
    "#for i,name in enumerate(names_test):\n",
    "#    name = name.lower()\n",
    "#    for t, char in enumerate(name):\n",
    "#        X_test[i, t,0] = char_indices[char]\n",
    "predictions = model.predict(X_test)\n",
    "predictions"
   ]
  },
  {
   "cell_type": "code",
   "execution_count": 339,
   "metadata": {},
   "outputs": [
    {
     "data": {
      "text/plain": [
       "(106695, 1)"
      ]
     },
     "execution_count": 339,
     "metadata": {},
     "output_type": "execute_result"
    }
   ],
   "source": [
    "predictions.shape"
   ]
  },
  {
   "cell_type": "code",
   "execution_count": 260,
   "metadata": {},
   "outputs": [
    {
     "data": {
      "text/plain": [
       "array([[ 0.58957708],\n",
       "       [ 0.2044933 ],\n",
       "       [ 0.5969525 ],\n",
       "       [ 0.20876125]], dtype=float32)"
      ]
     },
     "execution_count": 260,
     "metadata": {},
     "output_type": "execute_result"
    }
   ],
   "source": []
  },
  {
   "cell_type": "code",
   "execution_count": null,
   "metadata": {
    "collapsed": true
   },
   "outputs": [],
   "source": []
  }
 ],
 "metadata": {
  "kernelspec": {
   "display_name": "conda_tensorflow_p36",
   "language": "python",
   "name": "conda_tensorflow_p36"
  },
  "language_info": {
   "codemirror_mode": {
    "name": "ipython",
    "version": 3
   },
   "file_extension": ".py",
   "mimetype": "text/x-python",
   "name": "python",
   "nbconvert_exporter": "python",
   "pygments_lexer": "ipython3",
   "version": "3.6.2"
  }
 },
 "nbformat": 4,
 "nbformat_minor": 2
}
